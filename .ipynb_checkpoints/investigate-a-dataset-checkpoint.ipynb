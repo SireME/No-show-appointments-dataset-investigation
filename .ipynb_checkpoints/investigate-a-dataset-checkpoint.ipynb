{
 "cells": [
  {
   "cell_type": "markdown",
   "metadata": {},
   "source": [
    "\n",
    "# Project: No show Appointmnents Dataset Investigation\n",
    "\n",
    "## Table of Contents\n",
    "<ul>\n",
    "<li><a href=\"#intro\">Introduction</a></li>\n",
    "<li><a href=\"#wrangling\">Data Wrangling</a></li>\n",
    "<li><a href=\"#eda\">Exploratory Data Analysis</a></li>\n",
    "<li><a href=\"#conclusions\">Conclusions and Limitations</a></li>\n",
    "<li><a href=\"#references\">References for analysis</a></li>\n",
    "</ul>"
   ]
  },
  {
   "cell_type": "markdown",
   "metadata": {},
   "source": [
    "<a id='intro'></a>\n",
    "## Introduction\n",
    "\n",
    ">  The dataset for this investigation is the No-show appointments dataset. It is based on informataion collected from more than 100 thousand medical appointments in brasil and based on gathering data on wether patients showed up for appointments or not. Several variables are used to capture the appropriate data to dissect the question on weather a patient will show up for appointments or not.\n",
    ">\n",
    "> In our attempt to understand the insight of the data, we shall focuse on just two questions that goes thus;\n",
    "1. Does being an alcoholic influence ones likelihood of showing up for hospital appointments?\n",
    "2. Do all those who receive SMSs show up for appointments? and is there any association between receiving an SMS and showing up for appointments?"
   ]
  },
  {
   "cell_type": "code",
   "execution_count": 37,
   "metadata": {},
   "outputs": [],
   "source": [
    "#Here we imported all the python libraries that are important for our analysis\n",
    "import pandas as pd\n",
    "import numpy as np\n",
    "from scipy.stats import chi2_contingency as cqt\n",
    "import matplotlib.pyplot as plt\n",
    "%matplotlib inline\n"
   ]
  },
  {
   "cell_type": "markdown",
   "metadata": {},
   "source": [
    "<a id='wrangling'></a>\n",
    "## Data Wrangling\n",
    "\n",
    "> In this section of our data analysis process, we got to undertsand the nature of the data, the nature of the variables and their usability as far as answering our questions are concerned. We Further cleaned the data to suit our analysis.\n",
    "\n",
    "### General Properties"
   ]
  },
  {
   "cell_type": "code",
   "execution_count": 38,
   "metadata": {},
   "outputs": [],
   "source": [
    "#   data loaded into the dataframe\n",
    "df=pd.read_csv('noshowappointments-kagglev2-may-2016.csv')"
   ]
  },
  {
   "cell_type": "markdown",
   "metadata": {},
   "source": [
    ">From our Head method and its output below, we can see all the column names and sample rows. It can be observed that hipertension is not well spelt and hence a variable that might need to be modified. From the variable Scholarship to SMS received, they seem to be coded and as a result might need further processing."
   ]
  },
  {
   "cell_type": "code",
   "execution_count": 39,
   "metadata": {
    "scrolled": true
   },
   "outputs": [
    {
     "data": {
      "text/html": [
       "<div>\n",
       "<style scoped>\n",
       "    .dataframe tbody tr th:only-of-type {\n",
       "        vertical-align: middle;\n",
       "    }\n",
       "\n",
       "    .dataframe tbody tr th {\n",
       "        vertical-align: top;\n",
       "    }\n",
       "\n",
       "    .dataframe thead th {\n",
       "        text-align: right;\n",
       "    }\n",
       "</style>\n",
       "<table border=\"1\" class=\"dataframe\">\n",
       "  <thead>\n",
       "    <tr style=\"text-align: right;\">\n",
       "      <th></th>\n",
       "      <th>PatientId</th>\n",
       "      <th>AppointmentID</th>\n",
       "      <th>Gender</th>\n",
       "      <th>ScheduledDay</th>\n",
       "      <th>AppointmentDay</th>\n",
       "      <th>Age</th>\n",
       "      <th>Neighbourhood</th>\n",
       "      <th>Scholarship</th>\n",
       "      <th>Hipertension</th>\n",
       "      <th>Diabetes</th>\n",
       "      <th>Alcoholism</th>\n",
       "      <th>Handcap</th>\n",
       "      <th>SMS_received</th>\n",
       "      <th>No-show</th>\n",
       "    </tr>\n",
       "  </thead>\n",
       "  <tbody>\n",
       "    <tr>\n",
       "      <th>0</th>\n",
       "      <td>2.987250e+13</td>\n",
       "      <td>5642903</td>\n",
       "      <td>F</td>\n",
       "      <td>2016-04-29T18:38:08Z</td>\n",
       "      <td>2016-04-29T00:00:00Z</td>\n",
       "      <td>62</td>\n",
       "      <td>JARDIM DA PENHA</td>\n",
       "      <td>0</td>\n",
       "      <td>1</td>\n",
       "      <td>0</td>\n",
       "      <td>0</td>\n",
       "      <td>0</td>\n",
       "      <td>0</td>\n",
       "      <td>No</td>\n",
       "    </tr>\n",
       "    <tr>\n",
       "      <th>1</th>\n",
       "      <td>5.589978e+14</td>\n",
       "      <td>5642503</td>\n",
       "      <td>M</td>\n",
       "      <td>2016-04-29T16:08:27Z</td>\n",
       "      <td>2016-04-29T00:00:00Z</td>\n",
       "      <td>56</td>\n",
       "      <td>JARDIM DA PENHA</td>\n",
       "      <td>0</td>\n",
       "      <td>0</td>\n",
       "      <td>0</td>\n",
       "      <td>0</td>\n",
       "      <td>0</td>\n",
       "      <td>0</td>\n",
       "      <td>No</td>\n",
       "    </tr>\n",
       "    <tr>\n",
       "      <th>2</th>\n",
       "      <td>4.262962e+12</td>\n",
       "      <td>5642549</td>\n",
       "      <td>F</td>\n",
       "      <td>2016-04-29T16:19:04Z</td>\n",
       "      <td>2016-04-29T00:00:00Z</td>\n",
       "      <td>62</td>\n",
       "      <td>MATA DA PRAIA</td>\n",
       "      <td>0</td>\n",
       "      <td>0</td>\n",
       "      <td>0</td>\n",
       "      <td>0</td>\n",
       "      <td>0</td>\n",
       "      <td>0</td>\n",
       "      <td>No</td>\n",
       "    </tr>\n",
       "    <tr>\n",
       "      <th>3</th>\n",
       "      <td>8.679512e+11</td>\n",
       "      <td>5642828</td>\n",
       "      <td>F</td>\n",
       "      <td>2016-04-29T17:29:31Z</td>\n",
       "      <td>2016-04-29T00:00:00Z</td>\n",
       "      <td>8</td>\n",
       "      <td>PONTAL DE CAMBURI</td>\n",
       "      <td>0</td>\n",
       "      <td>0</td>\n",
       "      <td>0</td>\n",
       "      <td>0</td>\n",
       "      <td>0</td>\n",
       "      <td>0</td>\n",
       "      <td>No</td>\n",
       "    </tr>\n",
       "    <tr>\n",
       "      <th>4</th>\n",
       "      <td>8.841186e+12</td>\n",
       "      <td>5642494</td>\n",
       "      <td>F</td>\n",
       "      <td>2016-04-29T16:07:23Z</td>\n",
       "      <td>2016-04-29T00:00:00Z</td>\n",
       "      <td>56</td>\n",
       "      <td>JARDIM DA PENHA</td>\n",
       "      <td>0</td>\n",
       "      <td>1</td>\n",
       "      <td>1</td>\n",
       "      <td>0</td>\n",
       "      <td>0</td>\n",
       "      <td>0</td>\n",
       "      <td>No</td>\n",
       "    </tr>\n",
       "  </tbody>\n",
       "</table>\n",
       "</div>"
      ],
      "text/plain": [
       "      PatientId  AppointmentID Gender          ScheduledDay  \\\n",
       "0  2.987250e+13        5642903      F  2016-04-29T18:38:08Z   \n",
       "1  5.589978e+14        5642503      M  2016-04-29T16:08:27Z   \n",
       "2  4.262962e+12        5642549      F  2016-04-29T16:19:04Z   \n",
       "3  8.679512e+11        5642828      F  2016-04-29T17:29:31Z   \n",
       "4  8.841186e+12        5642494      F  2016-04-29T16:07:23Z   \n",
       "\n",
       "         AppointmentDay  Age      Neighbourhood  Scholarship  Hipertension  \\\n",
       "0  2016-04-29T00:00:00Z   62    JARDIM DA PENHA            0             1   \n",
       "1  2016-04-29T00:00:00Z   56    JARDIM DA PENHA            0             0   \n",
       "2  2016-04-29T00:00:00Z   62      MATA DA PRAIA            0             0   \n",
       "3  2016-04-29T00:00:00Z    8  PONTAL DE CAMBURI            0             0   \n",
       "4  2016-04-29T00:00:00Z   56    JARDIM DA PENHA            0             1   \n",
       "\n",
       "   Diabetes  Alcoholism  Handcap  SMS_received No-show  \n",
       "0         0           0        0             0      No  \n",
       "1         0           0        0             0      No  \n",
       "2         0           0        0             0      No  \n",
       "3         0           0        0             0      No  \n",
       "4         1           0        0             0      No  "
      ]
     },
     "execution_count": 39,
     "metadata": {},
     "output_type": "execute_result"
    }
   ],
   "source": [
    "df.head()"
   ]
  },
  {
   "cell_type": "markdown",
   "metadata": {},
   "source": [
    "> There are a total of **110,527** rows in and **14** columns in this dataset as seen from the shape function."
   ]
  },
  {
   "cell_type": "code",
   "execution_count": 40,
   "metadata": {},
   "outputs": [
    {
     "data": {
      "text/plain": [
       "(110527, 14)"
      ]
     },
     "execution_count": 40,
     "metadata": {},
     "output_type": "execute_result"
    }
   ],
   "source": [
    "df.shape"
   ]
  },
  {
   "cell_type": "markdown",
   "metadata": {},
   "source": [
    "> From the info method, it is observed that this data has no null data entries as all variable show a total of 110527 entries. It is further seen that variables like diabetes are integers hence a need for them to be changed per our nature of analysis."
   ]
  },
  {
   "cell_type": "code",
   "execution_count": 41,
   "metadata": {
    "scrolled": true
   },
   "outputs": [
    {
     "name": "stdout",
     "output_type": "stream",
     "text": [
      "<class 'pandas.core.frame.DataFrame'>\n",
      "RangeIndex: 110527 entries, 0 to 110526\n",
      "Data columns (total 14 columns):\n",
      " #   Column          Non-Null Count   Dtype  \n",
      "---  ------          --------------   -----  \n",
      " 0   PatientId       110527 non-null  float64\n",
      " 1   AppointmentID   110527 non-null  int64  \n",
      " 2   Gender          110527 non-null  object \n",
      " 3   ScheduledDay    110527 non-null  object \n",
      " 4   AppointmentDay  110527 non-null  object \n",
      " 5   Age             110527 non-null  int64  \n",
      " 6   Neighbourhood   110527 non-null  object \n",
      " 7   Scholarship     110527 non-null  int64  \n",
      " 8   Hipertension    110527 non-null  int64  \n",
      " 9   Diabetes        110527 non-null  int64  \n",
      " 10  Alcoholism      110527 non-null  int64  \n",
      " 11  Handcap         110527 non-null  int64  \n",
      " 12  SMS_received    110527 non-null  int64  \n",
      " 13  No-show         110527 non-null  object \n",
      "dtypes: float64(1), int64(8), object(5)\n",
      "memory usage: 11.8+ MB\n"
     ]
    }
   ],
   "source": [
    "df.info()"
   ]
  },
  {
   "cell_type": "markdown",
   "metadata": {},
   "source": [
    "> To complememnt the data already observed from the info() method above, it can be see that no variables are null (empty) as seen from the combine use of the isnull and sum functions."
   ]
  },
  {
   "cell_type": "code",
   "execution_count": 42,
   "metadata": {
    "scrolled": true
   },
   "outputs": [
    {
     "data": {
      "text/plain": [
       "PatientId         0\n",
       "AppointmentID     0\n",
       "Gender            0\n",
       "ScheduledDay      0\n",
       "AppointmentDay    0\n",
       "Age               0\n",
       "Neighbourhood     0\n",
       "Scholarship       0\n",
       "Hipertension      0\n",
       "Diabetes          0\n",
       "Alcoholism        0\n",
       "Handcap           0\n",
       "SMS_received      0\n",
       "No-show           0\n",
       "dtype: int64"
      ]
     },
     "execution_count": 42,
     "metadata": {},
     "output_type": "execute_result"
    }
   ],
   "source": [
    "df.isnull().sum()"
   ]
  },
  {
   "cell_type": "markdown",
   "metadata": {},
   "source": [
    "> In an attempt to get all the columns that return True for duplicates in other to determine if there are duplicates in the data, it was observed that no columns were returned as seen below. This means our data is good to go as far as this area is concerned and we have no need to handle duplicates."
   ]
  },
  {
   "cell_type": "code",
   "execution_count": 43,
   "metadata": {
    "scrolled": true
   },
   "outputs": [
    {
     "data": {
      "text/html": [
       "<div>\n",
       "<style scoped>\n",
       "    .dataframe tbody tr th:only-of-type {\n",
       "        vertical-align: middle;\n",
       "    }\n",
       "\n",
       "    .dataframe tbody tr th {\n",
       "        vertical-align: top;\n",
       "    }\n",
       "\n",
       "    .dataframe thead th {\n",
       "        text-align: right;\n",
       "    }\n",
       "</style>\n",
       "<table border=\"1\" class=\"dataframe\">\n",
       "  <thead>\n",
       "    <tr style=\"text-align: right;\">\n",
       "      <th></th>\n",
       "      <th>PatientId</th>\n",
       "      <th>AppointmentID</th>\n",
       "      <th>Gender</th>\n",
       "      <th>ScheduledDay</th>\n",
       "      <th>AppointmentDay</th>\n",
       "      <th>Age</th>\n",
       "      <th>Neighbourhood</th>\n",
       "      <th>Scholarship</th>\n",
       "      <th>Hipertension</th>\n",
       "      <th>Diabetes</th>\n",
       "      <th>Alcoholism</th>\n",
       "      <th>Handcap</th>\n",
       "      <th>SMS_received</th>\n",
       "      <th>No-show</th>\n",
       "    </tr>\n",
       "  </thead>\n",
       "  <tbody>\n",
       "  </tbody>\n",
       "</table>\n",
       "</div>"
      ],
      "text/plain": [
       "Empty DataFrame\n",
       "Columns: [PatientId, AppointmentID, Gender, ScheduledDay, AppointmentDay, Age, Neighbourhood, Scholarship, Hipertension, Diabetes, Alcoholism, Handcap, SMS_received, No-show]\n",
       "Index: []"
      ]
     },
     "execution_count": 43,
     "metadata": {},
     "output_type": "execute_result"
    }
   ],
   "source": [
    "df[df.duplicated()]"
   ]
  },
  {
   "cell_type": "markdown",
   "metadata": {},
   "source": [
    ">To further gain insight into the continuos variables and their nature of appearance in the dataset, basic statistics were computed using the describe() method. It can be observed that PatientId,\tAppointmentID and Age had relative \tstatistics that described truly continuos data unlike Scholarship,\tHipertension,\tDiabetes,\tAlcoholism,\tHandcap and\tSMS_received which had range parameters that indicated that they are likely coded variables. This is because these varaibles had minimum values of 0, likely indicating the first code value and maximum values of 1 likely indicating the second coded value. In this like, they are like;ly categories."
   ]
  },
  {
   "cell_type": "code",
   "execution_count": 44,
   "metadata": {
    "scrolled": true
   },
   "outputs": [
    {
     "data": {
      "text/html": [
       "<div>\n",
       "<style scoped>\n",
       "    .dataframe tbody tr th:only-of-type {\n",
       "        vertical-align: middle;\n",
       "    }\n",
       "\n",
       "    .dataframe tbody tr th {\n",
       "        vertical-align: top;\n",
       "    }\n",
       "\n",
       "    .dataframe thead th {\n",
       "        text-align: right;\n",
       "    }\n",
       "</style>\n",
       "<table border=\"1\" class=\"dataframe\">\n",
       "  <thead>\n",
       "    <tr style=\"text-align: right;\">\n",
       "      <th></th>\n",
       "      <th>PatientId</th>\n",
       "      <th>AppointmentID</th>\n",
       "      <th>Age</th>\n",
       "      <th>Scholarship</th>\n",
       "      <th>Hipertension</th>\n",
       "      <th>Diabetes</th>\n",
       "      <th>Alcoholism</th>\n",
       "      <th>Handcap</th>\n",
       "      <th>SMS_received</th>\n",
       "    </tr>\n",
       "  </thead>\n",
       "  <tbody>\n",
       "    <tr>\n",
       "      <th>count</th>\n",
       "      <td>1.105270e+05</td>\n",
       "      <td>1.105270e+05</td>\n",
       "      <td>110527.000000</td>\n",
       "      <td>110527.000000</td>\n",
       "      <td>110527.000000</td>\n",
       "      <td>110527.000000</td>\n",
       "      <td>110527.000000</td>\n",
       "      <td>110527.000000</td>\n",
       "      <td>110527.000000</td>\n",
       "    </tr>\n",
       "    <tr>\n",
       "      <th>mean</th>\n",
       "      <td>1.474963e+14</td>\n",
       "      <td>5.675305e+06</td>\n",
       "      <td>37.088874</td>\n",
       "      <td>0.098266</td>\n",
       "      <td>0.197246</td>\n",
       "      <td>0.071865</td>\n",
       "      <td>0.030400</td>\n",
       "      <td>0.022248</td>\n",
       "      <td>0.321026</td>\n",
       "    </tr>\n",
       "    <tr>\n",
       "      <th>std</th>\n",
       "      <td>2.560949e+14</td>\n",
       "      <td>7.129575e+04</td>\n",
       "      <td>23.110205</td>\n",
       "      <td>0.297675</td>\n",
       "      <td>0.397921</td>\n",
       "      <td>0.258265</td>\n",
       "      <td>0.171686</td>\n",
       "      <td>0.161543</td>\n",
       "      <td>0.466873</td>\n",
       "    </tr>\n",
       "    <tr>\n",
       "      <th>min</th>\n",
       "      <td>3.921784e+04</td>\n",
       "      <td>5.030230e+06</td>\n",
       "      <td>-1.000000</td>\n",
       "      <td>0.000000</td>\n",
       "      <td>0.000000</td>\n",
       "      <td>0.000000</td>\n",
       "      <td>0.000000</td>\n",
       "      <td>0.000000</td>\n",
       "      <td>0.000000</td>\n",
       "    </tr>\n",
       "    <tr>\n",
       "      <th>25%</th>\n",
       "      <td>4.172614e+12</td>\n",
       "      <td>5.640286e+06</td>\n",
       "      <td>18.000000</td>\n",
       "      <td>0.000000</td>\n",
       "      <td>0.000000</td>\n",
       "      <td>0.000000</td>\n",
       "      <td>0.000000</td>\n",
       "      <td>0.000000</td>\n",
       "      <td>0.000000</td>\n",
       "    </tr>\n",
       "    <tr>\n",
       "      <th>50%</th>\n",
       "      <td>3.173184e+13</td>\n",
       "      <td>5.680573e+06</td>\n",
       "      <td>37.000000</td>\n",
       "      <td>0.000000</td>\n",
       "      <td>0.000000</td>\n",
       "      <td>0.000000</td>\n",
       "      <td>0.000000</td>\n",
       "      <td>0.000000</td>\n",
       "      <td>0.000000</td>\n",
       "    </tr>\n",
       "    <tr>\n",
       "      <th>75%</th>\n",
       "      <td>9.439172e+13</td>\n",
       "      <td>5.725524e+06</td>\n",
       "      <td>55.000000</td>\n",
       "      <td>0.000000</td>\n",
       "      <td>0.000000</td>\n",
       "      <td>0.000000</td>\n",
       "      <td>0.000000</td>\n",
       "      <td>0.000000</td>\n",
       "      <td>1.000000</td>\n",
       "    </tr>\n",
       "    <tr>\n",
       "      <th>max</th>\n",
       "      <td>9.999816e+14</td>\n",
       "      <td>5.790484e+06</td>\n",
       "      <td>115.000000</td>\n",
       "      <td>1.000000</td>\n",
       "      <td>1.000000</td>\n",
       "      <td>1.000000</td>\n",
       "      <td>1.000000</td>\n",
       "      <td>4.000000</td>\n",
       "      <td>1.000000</td>\n",
       "    </tr>\n",
       "  </tbody>\n",
       "</table>\n",
       "</div>"
      ],
      "text/plain": [
       "          PatientId  AppointmentID            Age    Scholarship  \\\n",
       "count  1.105270e+05   1.105270e+05  110527.000000  110527.000000   \n",
       "mean   1.474963e+14   5.675305e+06      37.088874       0.098266   \n",
       "std    2.560949e+14   7.129575e+04      23.110205       0.297675   \n",
       "min    3.921784e+04   5.030230e+06      -1.000000       0.000000   \n",
       "25%    4.172614e+12   5.640286e+06      18.000000       0.000000   \n",
       "50%    3.173184e+13   5.680573e+06      37.000000       0.000000   \n",
       "75%    9.439172e+13   5.725524e+06      55.000000       0.000000   \n",
       "max    9.999816e+14   5.790484e+06     115.000000       1.000000   \n",
       "\n",
       "        Hipertension       Diabetes     Alcoholism        Handcap  \\\n",
       "count  110527.000000  110527.000000  110527.000000  110527.000000   \n",
       "mean        0.197246       0.071865       0.030400       0.022248   \n",
       "std         0.397921       0.258265       0.171686       0.161543   \n",
       "min         0.000000       0.000000       0.000000       0.000000   \n",
       "25%         0.000000       0.000000       0.000000       0.000000   \n",
       "50%         0.000000       0.000000       0.000000       0.000000   \n",
       "75%         0.000000       0.000000       0.000000       0.000000   \n",
       "max         1.000000       1.000000       1.000000       4.000000   \n",
       "\n",
       "        SMS_received  \n",
       "count  110527.000000  \n",
       "mean        0.321026  \n",
       "std         0.466873  \n",
       "min         0.000000  \n",
       "25%         0.000000  \n",
       "50%         0.000000  \n",
       "75%         1.000000  \n",
       "max         1.000000  "
      ]
     },
     "execution_count": 44,
     "metadata": {},
     "output_type": "execute_result"
    }
   ],
   "source": [
    "df.describe()"
   ]
  },
  {
   "cell_type": "markdown",
   "metadata": {},
   "source": [
    ">From our Data description above, it was observed that among the variables that seem to have been coded that Handcap had a max value of 4. This is different from the rest with a max value of 1 hence it was grouped to the values  that make it up in other to understand the nature of the variable. From our grouping below, we can see that it has four groupings ranging from 0,1,2,3 and 4 with 0 having the highest frequency."
   ]
  },
  {
   "cell_type": "code",
   "execution_count": 45,
   "metadata": {
    "scrolled": false
   },
   "outputs": [
    {
     "data": {
      "text/plain": [
       "0    108286\n",
       "1      2042\n",
       "2       183\n",
       "3        13\n",
       "4         3\n",
       "Name: Handcap, dtype: int64"
      ]
     },
     "execution_count": 45,
     "metadata": {},
     "output_type": "execute_result"
    },
    {
     "data": {
      "image/png": "[encoded data removed]",
      "text/plain": [
       "<Figure size 432x288 with 1 Axes>"
      ]
     },
     "metadata": {
      "needs_background": "light"
     },
     "output_type": "display_data"
    }
   ],
   "source": [
    "# labling and ploting handcap variable\n",
    "df['Handcap'].value_counts().plot(kind='bar',title='Handcap variable outlook')\n",
    "plt.ylabel('count')\n",
    "plt.xticks(rotation=0)\n",
    "plt.xlabel('variable categories')\n",
    "# Table of handcap variable\n",
    "df['Handcap'].value_counts()"
   ]
  },
  {
   "cell_type": "markdown",
   "metadata": {},
   "source": [
    "Furthermore, an outlook of seeminly binary variables was observed and confimed as seen below"
   ]
  },
  {
   "cell_type": "code",
   "execution_count": 46,
   "metadata": {
    "scrolled": true
   },
   "outputs": [
    {
     "data": {
      "text/html": [
       "<div>\n",
       "<style scoped>\n",
       "    .dataframe tbody tr th:only-of-type {\n",
       "        vertical-align: middle;\n",
       "    }\n",
       "\n",
       "    .dataframe tbody tr th {\n",
       "        vertical-align: top;\n",
       "    }\n",
       "\n",
       "    .dataframe thead th {\n",
       "        text-align: right;\n",
       "    }\n",
       "</style>\n",
       "<table border=\"1\" class=\"dataframe\">\n",
       "  <thead>\n",
       "    <tr style=\"text-align: right;\">\n",
       "      <th></th>\n",
       "      <th>0</th>\n",
       "      <th>1</th>\n",
       "    </tr>\n",
       "  </thead>\n",
       "  <tbody>\n",
       "    <tr>\n",
       "      <th>Scholarship</th>\n",
       "      <td>99666</td>\n",
       "      <td>10861</td>\n",
       "    </tr>\n",
       "    <tr>\n",
       "      <th>Hipertension</th>\n",
       "      <td>88726</td>\n",
       "      <td>21801</td>\n",
       "    </tr>\n",
       "    <tr>\n",
       "      <th>Diabetes</th>\n",
       "      <td>102584</td>\n",
       "      <td>7943</td>\n",
       "    </tr>\n",
       "    <tr>\n",
       "      <th>Alcoholism</th>\n",
       "      <td>107167</td>\n",
       "      <td>3360</td>\n",
       "    </tr>\n",
       "    <tr>\n",
       "      <th>SMS_received</th>\n",
       "      <td>75045</td>\n",
       "      <td>35482</td>\n",
       "    </tr>\n",
       "  </tbody>\n",
       "</table>\n",
       "</div>"
      ],
      "text/plain": [
       "                   0      1\n",
       "Scholarship    99666  10861\n",
       "Hipertension   88726  21801\n",
       "Diabetes      102584   7943\n",
       "Alcoholism    107167   3360\n",
       "SMS_received   75045  35482"
      ]
     },
     "execution_count": 46,
     "metadata": {},
     "output_type": "execute_result"
    },
    {
     "data": {
      "image/png": "[encoded data removed]",
      "text/plain": [
       "<Figure size 432x288 with 1 Axes>"
      ]
     },
     "metadata": {
      "needs_background": "light"
     },
     "output_type": "display_data"
    }
   ],
   "source": [
    "# binary_c refers to all our binary variables that had 0 and 1 as their data interpreted as No and yes\n",
    "binary_c=df.iloc[:,np.r_[7:11,12]]\n",
    "#plot of coded binary variables \n",
    "binary_c.apply(pd.Series.value_counts).plot(kind='bar')\n",
    "#labels of chart showcasing the variables\n",
    "plt.ylabel('count')\n",
    "plt.xlabel('variable categories')\n",
    "# Table of binary variables \n",
    "binary_c.apply(pd.Series.value_counts).T"
   ]
  },
  {
   "cell_type": "markdown",
   "metadata": {},
   "source": [
    "> Since Gender and No-show variables are important in our questions, we looked at their nature. Both were ok category wise but No-show variable is not in a very friendly nature for the interpreter hence the hyphen(-) needs to be removed and converted to an underscore(_) "
   ]
  },
  {
   "cell_type": "code",
   "execution_count": 47,
   "metadata": {
    "scrolled": true
   },
   "outputs": [
    {
     "data": {
      "text/plain": [
       "(F    71840\n",
       " M    38687\n",
       " Name: Gender, dtype: int64,\n",
       " No     88208\n",
       " Yes    22319\n",
       " Name: No-show, dtype: int64)"
      ]
     },
     "execution_count": 47,
     "metadata": {},
     "output_type": "execute_result"
    }
   ],
   "source": [
    "df.Gender.value_counts(), df['No-show'].value_counts()"
   ]
  },
  {
   "cell_type": "markdown",
   "metadata": {},
   "source": [
    "\n",
    "### No Show Appointmets Data Cleaning"
   ]
  },
  {
   "cell_type": "markdown",
   "metadata": {},
   "source": [
    ">In the cell below, Hipertension variable as well as No-show variable were renamed to their grammatically correct as well as programmatically comfortable spellings respectively."
   ]
  },
  {
   "cell_type": "code",
   "execution_count": 48,
   "metadata": {},
   "outputs": [
    {
     "data": {
      "text/html": [
       "<div>\n",
       "<style scoped>\n",
       "    .dataframe tbody tr th:only-of-type {\n",
       "        vertical-align: middle;\n",
       "    }\n",
       "\n",
       "    .dataframe tbody tr th {\n",
       "        vertical-align: top;\n",
       "    }\n",
       "\n",
       "    .dataframe thead th {\n",
       "        text-align: right;\n",
       "    }\n",
       "</style>\n",
       "<table border=\"1\" class=\"dataframe\">\n",
       "  <thead>\n",
       "    <tr style=\"text-align: right;\">\n",
       "      <th></th>\n",
       "      <th>PatientId</th>\n",
       "      <th>AppointmentID</th>\n",
       "      <th>Gender</th>\n",
       "      <th>ScheduledDay</th>\n",
       "      <th>AppointmentDay</th>\n",
       "      <th>Age</th>\n",
       "      <th>Neighbourhood</th>\n",
       "      <th>Scholarship</th>\n",
       "      <th>Hypertension</th>\n",
       "      <th>Diabetes</th>\n",
       "      <th>Alcoholism</th>\n",
       "      <th>Handcap</th>\n",
       "      <th>SMS_received</th>\n",
       "      <th>No_show</th>\n",
       "    </tr>\n",
       "  </thead>\n",
       "  <tbody>\n",
       "  </tbody>\n",
       "</table>\n",
       "</div>"
      ],
      "text/plain": [
       "Empty DataFrame\n",
       "Columns: [PatientId, AppointmentID, Gender, ScheduledDay, AppointmentDay, Age, Neighbourhood, Scholarship, Hypertension, Diabetes, Alcoholism, Handcap, SMS_received, No_show]\n",
       "Index: []"
      ]
     },
     "execution_count": 48,
     "metadata": {},
     "output_type": "execute_result"
    }
   ],
   "source": [
    "#renamimg of the Hipertension and No-show variables\n",
    "df.rename({'Hipertension':'Hypertension','No-show':'No_show'}, axis=1, inplace=True)\n",
    "df.head(0)"
   ]
  },
  {
   "cell_type": "markdown",
   "metadata": {},
   "source": [
    ">In the cells below, The coding in the various columns with 0 and 1 responses were decoded to their respective values of 'No' and 'Yes'. This is to ease anaylsis and labling when it is time for visualisations"
   ]
  },
  {
   "cell_type": "code",
   "execution_count": 49,
   "metadata": {},
   "outputs": [
    {
     "data": {
      "text/html": [
       "<div>\n",
       "<style scoped>\n",
       "    .dataframe tbody tr th:only-of-type {\n",
       "        vertical-align: middle;\n",
       "    }\n",
       "\n",
       "    .dataframe tbody tr th {\n",
       "        vertical-align: top;\n",
       "    }\n",
       "\n",
       "    .dataframe thead th {\n",
       "        text-align: right;\n",
       "    }\n",
       "</style>\n",
       "<table border=\"1\" class=\"dataframe\">\n",
       "  <thead>\n",
       "    <tr style=\"text-align: right;\">\n",
       "      <th></th>\n",
       "      <th>0</th>\n",
       "      <th>1</th>\n",
       "      <th>2</th>\n",
       "      <th>3</th>\n",
       "      <th>4</th>\n",
       "    </tr>\n",
       "  </thead>\n",
       "  <tbody>\n",
       "    <tr>\n",
       "      <th>PatientId</th>\n",
       "      <td>29872499824296.0</td>\n",
       "      <td>558997776694438.0</td>\n",
       "      <td>4262962299951.0</td>\n",
       "      <td>867951213174.0</td>\n",
       "      <td>8841186448183.0</td>\n",
       "    </tr>\n",
       "    <tr>\n",
       "      <th>AppointmentID</th>\n",
       "      <td>5642903</td>\n",
       "      <td>5642503</td>\n",
       "      <td>5642549</td>\n",
       "      <td>5642828</td>\n",
       "      <td>5642494</td>\n",
       "    </tr>\n",
       "    <tr>\n",
       "      <th>Gender</th>\n",
       "      <td>F</td>\n",
       "      <td>M</td>\n",
       "      <td>F</td>\n",
       "      <td>F</td>\n",
       "      <td>F</td>\n",
       "    </tr>\n",
       "    <tr>\n",
       "      <th>ScheduledDay</th>\n",
       "      <td>2016-04-29T18:38:08Z</td>\n",
       "      <td>2016-04-29T16:08:27Z</td>\n",
       "      <td>2016-04-29T16:19:04Z</td>\n",
       "      <td>2016-04-29T17:29:31Z</td>\n",
       "      <td>2016-04-29T16:07:23Z</td>\n",
       "    </tr>\n",
       "    <tr>\n",
       "      <th>AppointmentDay</th>\n",
       "      <td>2016-04-29T00:00:00Z</td>\n",
       "      <td>2016-04-29T00:00:00Z</td>\n",
       "      <td>2016-04-29T00:00:00Z</td>\n",
       "      <td>2016-04-29T00:00:00Z</td>\n",
       "      <td>2016-04-29T00:00:00Z</td>\n",
       "    </tr>\n",
       "    <tr>\n",
       "      <th>Age</th>\n",
       "      <td>62</td>\n",
       "      <td>56</td>\n",
       "      <td>62</td>\n",
       "      <td>8</td>\n",
       "      <td>56</td>\n",
       "    </tr>\n",
       "    <tr>\n",
       "      <th>Neighbourhood</th>\n",
       "      <td>JARDIM DA PENHA</td>\n",
       "      <td>JARDIM DA PENHA</td>\n",
       "      <td>MATA DA PRAIA</td>\n",
       "      <td>PONTAL DE CAMBURI</td>\n",
       "      <td>JARDIM DA PENHA</td>\n",
       "    </tr>\n",
       "    <tr>\n",
       "      <th>Scholarship</th>\n",
       "      <td>No</td>\n",
       "      <td>No</td>\n",
       "      <td>No</td>\n",
       "      <td>No</td>\n",
       "      <td>No</td>\n",
       "    </tr>\n",
       "    <tr>\n",
       "      <th>Hypertension</th>\n",
       "      <td>Yes</td>\n",
       "      <td>No</td>\n",
       "      <td>No</td>\n",
       "      <td>No</td>\n",
       "      <td>Yes</td>\n",
       "    </tr>\n",
       "    <tr>\n",
       "      <th>Diabetes</th>\n",
       "      <td>No</td>\n",
       "      <td>No</td>\n",
       "      <td>No</td>\n",
       "      <td>No</td>\n",
       "      <td>Yes</td>\n",
       "    </tr>\n",
       "    <tr>\n",
       "      <th>Alcoholism</th>\n",
       "      <td>No</td>\n",
       "      <td>No</td>\n",
       "      <td>No</td>\n",
       "      <td>No</td>\n",
       "      <td>No</td>\n",
       "    </tr>\n",
       "    <tr>\n",
       "      <th>Handcap</th>\n",
       "      <td>0</td>\n",
       "      <td>0</td>\n",
       "      <td>0</td>\n",
       "      <td>0</td>\n",
       "      <td>0</td>\n",
       "    </tr>\n",
       "    <tr>\n",
       "      <th>SMS_received</th>\n",
       "      <td>No</td>\n",
       "      <td>No</td>\n",
       "      <td>No</td>\n",
       "      <td>No</td>\n",
       "      <td>No</td>\n",
       "    </tr>\n",
       "    <tr>\n",
       "      <th>No_show</th>\n",
       "      <td>No</td>\n",
       "      <td>No</td>\n",
       "      <td>No</td>\n",
       "      <td>No</td>\n",
       "      <td>No</td>\n",
       "    </tr>\n",
       "  </tbody>\n",
       "</table>\n",
       "</div>"
      ],
      "text/plain": [
       "                                   0                     1  \\\n",
       "PatientId           29872499824296.0     558997776694438.0   \n",
       "AppointmentID                5642903               5642503   \n",
       "Gender                             F                     M   \n",
       "ScheduledDay    2016-04-29T18:38:08Z  2016-04-29T16:08:27Z   \n",
       "AppointmentDay  2016-04-29T00:00:00Z  2016-04-29T00:00:00Z   \n",
       "Age                               62                    56   \n",
       "Neighbourhood        JARDIM DA PENHA       JARDIM DA PENHA   \n",
       "Scholarship                       No                    No   \n",
       "Hypertension                     Yes                    No   \n",
       "Diabetes                          No                    No   \n",
       "Alcoholism                        No                    No   \n",
       "Handcap                            0                     0   \n",
       "SMS_received                      No                    No   \n",
       "No_show                           No                    No   \n",
       "\n",
       "                                   2                     3  \\\n",
       "PatientId            4262962299951.0        867951213174.0   \n",
       "AppointmentID                5642549               5642828   \n",
       "Gender                             F                     F   \n",
       "ScheduledDay    2016-04-29T16:19:04Z  2016-04-29T17:29:31Z   \n",
       "AppointmentDay  2016-04-29T00:00:00Z  2016-04-29T00:00:00Z   \n",
       "Age                               62                     8   \n",
       "Neighbourhood          MATA DA PRAIA     PONTAL DE CAMBURI   \n",
       "Scholarship                       No                    No   \n",
       "Hypertension                      No                    No   \n",
       "Diabetes                          No                    No   \n",
       "Alcoholism                        No                    No   \n",
       "Handcap                            0                     0   \n",
       "SMS_received                      No                    No   \n",
       "No_show                           No                    No   \n",
       "\n",
       "                                   4  \n",
       "PatientId            8841186448183.0  \n",
       "AppointmentID                5642494  \n",
       "Gender                             F  \n",
       "ScheduledDay    2016-04-29T16:07:23Z  \n",
       "AppointmentDay  2016-04-29T00:00:00Z  \n",
       "Age                               56  \n",
       "Neighbourhood        JARDIM DA PENHA  \n",
       "Scholarship                       No  \n",
       "Hypertension                     Yes  \n",
       "Diabetes                         Yes  \n",
       "Alcoholism                        No  \n",
       "Handcap                            0  \n",
       "SMS_received                      No  \n",
       "No_show                           No  "
      ]
     },
     "execution_count": 49,
     "metadata": {},
     "output_type": "execute_result"
    }
   ],
   "source": [
    "# No or Yes Variables replacement\n",
    "r_columns=df.iloc[:,np.r_[7:11,12]]\n",
    "for i in r_columns.columns:\n",
    "    df[i].replace([0,1],['No','Yes'],inplace=True)\n",
    "df.head().T"
   ]
  },
  {
   "cell_type": "markdown",
   "metadata": {},
   "source": [
    "> The replacement of 0 to No and 1 To Yes meant that the data types of those variables had to change from integers to strings as seen below."
   ]
  },
  {
   "cell_type": "code",
   "execution_count": 50,
   "metadata": {
    "scrolled": true
   },
   "outputs": [
    {
     "data": {
      "text/plain": [
       "PatientId         float64\n",
       "AppointmentID       int64\n",
       "Gender             object\n",
       "ScheduledDay       object\n",
       "AppointmentDay     object\n",
       "Age                 int64\n",
       "Neighbourhood      object\n",
       "Scholarship        object\n",
       "Hypertension       object\n",
       "Diabetes           object\n",
       "Alcoholism         object\n",
       "Handcap             int64\n",
       "SMS_received       object\n",
       "No_show            object\n",
       "dtype: object"
      ]
     },
     "execution_count": 50,
     "metadata": {},
     "output_type": "execute_result"
    }
   ],
   "source": [
    "df.dtypes"
   ]
  },
  {
   "cell_type": "markdown",
   "metadata": {},
   "source": [
    "> Since The Handcap variable is not vital to the answerioing of our questions and it had discrepancies as the data never gave us sufficient information about its nature and we could not rpoperly deduce weather the additional categories were true categories or were mistakes, we decided to drop the variable as seen below."
   ]
  },
  {
   "cell_type": "code",
   "execution_count": 51,
   "metadata": {},
   "outputs": [
    {
     "data": {
      "text/html": [
       "<div>\n",
       "<style scoped>\n",
       "    .dataframe tbody tr th:only-of-type {\n",
       "        vertical-align: middle;\n",
       "    }\n",
       "\n",
       "    .dataframe tbody tr th {\n",
       "        vertical-align: top;\n",
       "    }\n",
       "\n",
       "    .dataframe thead th {\n",
       "        text-align: right;\n",
       "    }\n",
       "</style>\n",
       "<table border=\"1\" class=\"dataframe\">\n",
       "  <thead>\n",
       "    <tr style=\"text-align: right;\">\n",
       "      <th></th>\n",
       "      <th>0</th>\n",
       "      <th>1</th>\n",
       "      <th>2</th>\n",
       "      <th>3</th>\n",
       "      <th>4</th>\n",
       "    </tr>\n",
       "  </thead>\n",
       "  <tbody>\n",
       "    <tr>\n",
       "      <th>PatientId</th>\n",
       "      <td>29872499824296.0</td>\n",
       "      <td>558997776694438.0</td>\n",
       "      <td>4262962299951.0</td>\n",
       "      <td>867951213174.0</td>\n",
       "      <td>8841186448183.0</td>\n",
       "    </tr>\n",
       "    <tr>\n",
       "      <th>AppointmentID</th>\n",
       "      <td>5642903</td>\n",
       "      <td>5642503</td>\n",
       "      <td>5642549</td>\n",
       "      <td>5642828</td>\n",
       "      <td>5642494</td>\n",
       "    </tr>\n",
       "    <tr>\n",
       "      <th>Gender</th>\n",
       "      <td>F</td>\n",
       "      <td>M</td>\n",
       "      <td>F</td>\n",
       "      <td>F</td>\n",
       "      <td>F</td>\n",
       "    </tr>\n",
       "    <tr>\n",
       "      <th>ScheduledDay</th>\n",
       "      <td>2016-04-29T18:38:08Z</td>\n",
       "      <td>2016-04-29T16:08:27Z</td>\n",
       "      <td>2016-04-29T16:19:04Z</td>\n",
       "      <td>2016-04-29T17:29:31Z</td>\n",
       "      <td>2016-04-29T16:07:23Z</td>\n",
       "    </tr>\n",
       "    <tr>\n",
       "      <th>AppointmentDay</th>\n",
       "      <td>2016-04-29T00:00:00Z</td>\n",
       "      <td>2016-04-29T00:00:00Z</td>\n",
       "      <td>2016-04-29T00:00:00Z</td>\n",
       "      <td>2016-04-29T00:00:00Z</td>\n",
       "      <td>2016-04-29T00:00:00Z</td>\n",
       "    </tr>\n",
       "    <tr>\n",
       "      <th>Age</th>\n",
       "      <td>62</td>\n",
       "      <td>56</td>\n",
       "      <td>62</td>\n",
       "      <td>8</td>\n",
       "      <td>56</td>\n",
       "    </tr>\n",
       "    <tr>\n",
       "      <th>Neighbourhood</th>\n",
       "      <td>JARDIM DA PENHA</td>\n",
       "      <td>JARDIM DA PENHA</td>\n",
       "      <td>MATA DA PRAIA</td>\n",
       "      <td>PONTAL DE CAMBURI</td>\n",
       "      <td>JARDIM DA PENHA</td>\n",
       "    </tr>\n",
       "    <tr>\n",
       "      <th>Scholarship</th>\n",
       "      <td>No</td>\n",
       "      <td>No</td>\n",
       "      <td>No</td>\n",
       "      <td>No</td>\n",
       "      <td>No</td>\n",
       "    </tr>\n",
       "    <tr>\n",
       "      <th>Hypertension</th>\n",
       "      <td>Yes</td>\n",
       "      <td>No</td>\n",
       "      <td>No</td>\n",
       "      <td>No</td>\n",
       "      <td>Yes</td>\n",
       "    </tr>\n",
       "    <tr>\n",
       "      <th>Diabetes</th>\n",
       "      <td>No</td>\n",
       "      <td>No</td>\n",
       "      <td>No</td>\n",
       "      <td>No</td>\n",
       "      <td>Yes</td>\n",
       "    </tr>\n",
       "    <tr>\n",
       "      <th>Alcoholism</th>\n",
       "      <td>No</td>\n",
       "      <td>No</td>\n",
       "      <td>No</td>\n",
       "      <td>No</td>\n",
       "      <td>No</td>\n",
       "    </tr>\n",
       "    <tr>\n",
       "      <th>SMS_received</th>\n",
       "      <td>No</td>\n",
       "      <td>No</td>\n",
       "      <td>No</td>\n",
       "      <td>No</td>\n",
       "      <td>No</td>\n",
       "    </tr>\n",
       "    <tr>\n",
       "      <th>No_show</th>\n",
       "      <td>No</td>\n",
       "      <td>No</td>\n",
       "      <td>No</td>\n",
       "      <td>No</td>\n",
       "      <td>No</td>\n",
       "    </tr>\n",
       "  </tbody>\n",
       "</table>\n",
       "</div>"
      ],
      "text/plain": [
       "                                   0                     1  \\\n",
       "PatientId           29872499824296.0     558997776694438.0   \n",
       "AppointmentID                5642903               5642503   \n",
       "Gender                             F                     M   \n",
       "ScheduledDay    2016-04-29T18:38:08Z  2016-04-29T16:08:27Z   \n",
       "AppointmentDay  2016-04-29T00:00:00Z  2016-04-29T00:00:00Z   \n",
       "Age                               62                    56   \n",
       "Neighbourhood        JARDIM DA PENHA       JARDIM DA PENHA   \n",
       "Scholarship                       No                    No   \n",
       "Hypertension                     Yes                    No   \n",
       "Diabetes                          No                    No   \n",
       "Alcoholism                        No                    No   \n",
       "SMS_received                      No                    No   \n",
       "No_show                           No                    No   \n",
       "\n",
       "                                   2                     3  \\\n",
       "PatientId            4262962299951.0        867951213174.0   \n",
       "AppointmentID                5642549               5642828   \n",
       "Gender                             F                     F   \n",
       "ScheduledDay    2016-04-29T16:19:04Z  2016-04-29T17:29:31Z   \n",
       "AppointmentDay  2016-04-29T00:00:00Z  2016-04-29T00:00:00Z   \n",
       "Age                               62                     8   \n",
       "Neighbourhood          MATA DA PRAIA     PONTAL DE CAMBURI   \n",
       "Scholarship                       No                    No   \n",
       "Hypertension                      No                    No   \n",
       "Diabetes                          No                    No   \n",
       "Alcoholism                        No                    No   \n",
       "SMS_received                      No                    No   \n",
       "No_show                           No                    No   \n",
       "\n",
       "                                   4  \n",
       "PatientId            8841186448183.0  \n",
       "AppointmentID                5642494  \n",
       "Gender                             F  \n",
       "ScheduledDay    2016-04-29T16:07:23Z  \n",
       "AppointmentDay  2016-04-29T00:00:00Z  \n",
       "Age                               56  \n",
       "Neighbourhood        JARDIM DA PENHA  \n",
       "Scholarship                       No  \n",
       "Hypertension                     Yes  \n",
       "Diabetes                         Yes  \n",
       "Alcoholism                        No  \n",
       "SMS_received                      No  \n",
       "No_show                           No  "
      ]
     },
     "execution_count": 51,
     "metadata": {},
     "output_type": "execute_result"
    }
   ],
   "source": [
    "df.drop('Handcap',axis=1,inplace=True)\n",
    "df.head(5).T"
   ]
  },
  {
   "cell_type": "markdown",
   "metadata": {},
   "source": [
    "> Lastly, we changed the M and F in the Gender variable to Male and Female respectivel as seen below."
   ]
  },
  {
   "cell_type": "code",
   "execution_count": 52,
   "metadata": {},
   "outputs": [
    {
     "data": {
      "text/html": [
       "<div>\n",
       "<style scoped>\n",
       "    .dataframe tbody tr th:only-of-type {\n",
       "        vertical-align: middle;\n",
       "    }\n",
       "\n",
       "    .dataframe tbody tr th {\n",
       "        vertical-align: top;\n",
       "    }\n",
       "\n",
       "    .dataframe thead th {\n",
       "        text-align: right;\n",
       "    }\n",
       "</style>\n",
       "<table border=\"1\" class=\"dataframe\">\n",
       "  <thead>\n",
       "    <tr style=\"text-align: right;\">\n",
       "      <th></th>\n",
       "      <th>PatientId</th>\n",
       "      <th>AppointmentID</th>\n",
       "      <th>Gender</th>\n",
       "      <th>ScheduledDay</th>\n",
       "      <th>AppointmentDay</th>\n",
       "      <th>Age</th>\n",
       "      <th>Neighbourhood</th>\n",
       "      <th>Scholarship</th>\n",
       "      <th>Hypertension</th>\n",
       "      <th>Diabetes</th>\n",
       "      <th>Alcoholism</th>\n",
       "      <th>SMS_received</th>\n",
       "      <th>No_show</th>\n",
       "    </tr>\n",
       "  </thead>\n",
       "  <tbody>\n",
       "    <tr>\n",
       "      <th>0</th>\n",
       "      <td>2.987250e+13</td>\n",
       "      <td>5642903</td>\n",
       "      <td>Female</td>\n",
       "      <td>2016-04-29T18:38:08Z</td>\n",
       "      <td>2016-04-29T00:00:00Z</td>\n",
       "      <td>62</td>\n",
       "      <td>JARDIM DA PENHA</td>\n",
       "      <td>No</td>\n",
       "      <td>Yes</td>\n",
       "      <td>No</td>\n",
       "      <td>No</td>\n",
       "      <td>No</td>\n",
       "      <td>No</td>\n",
       "    </tr>\n",
       "    <tr>\n",
       "      <th>1</th>\n",
       "      <td>5.589978e+14</td>\n",
       "      <td>5642503</td>\n",
       "      <td>Male</td>\n",
       "      <td>2016-04-29T16:08:27Z</td>\n",
       "      <td>2016-04-29T00:00:00Z</td>\n",
       "      <td>56</td>\n",
       "      <td>JARDIM DA PENHA</td>\n",
       "      <td>No</td>\n",
       "      <td>No</td>\n",
       "      <td>No</td>\n",
       "      <td>No</td>\n",
       "      <td>No</td>\n",
       "      <td>No</td>\n",
       "    </tr>\n",
       "    <tr>\n",
       "      <th>2</th>\n",
       "      <td>4.262962e+12</td>\n",
       "      <td>5642549</td>\n",
       "      <td>Female</td>\n",
       "      <td>2016-04-29T16:19:04Z</td>\n",
       "      <td>2016-04-29T00:00:00Z</td>\n",
       "      <td>62</td>\n",
       "      <td>MATA DA PRAIA</td>\n",
       "      <td>No</td>\n",
       "      <td>No</td>\n",
       "      <td>No</td>\n",
       "      <td>No</td>\n",
       "      <td>No</td>\n",
       "      <td>No</td>\n",
       "    </tr>\n",
       "  </tbody>\n",
       "</table>\n",
       "</div>"
      ],
      "text/plain": [
       "      PatientId  AppointmentID  Gender          ScheduledDay  \\\n",
       "0  2.987250e+13        5642903  Female  2016-04-29T18:38:08Z   \n",
       "1  5.589978e+14        5642503    Male  2016-04-29T16:08:27Z   \n",
       "2  4.262962e+12        5642549  Female  2016-04-29T16:19:04Z   \n",
       "\n",
       "         AppointmentDay  Age    Neighbourhood Scholarship Hypertension  \\\n",
       "0  2016-04-29T00:00:00Z   62  JARDIM DA PENHA          No          Yes   \n",
       "1  2016-04-29T00:00:00Z   56  JARDIM DA PENHA          No           No   \n",
       "2  2016-04-29T00:00:00Z   62    MATA DA PRAIA          No           No   \n",
       "\n",
       "  Diabetes Alcoholism SMS_received No_show  \n",
       "0       No         No           No      No  \n",
       "1       No         No           No      No  \n",
       "2       No         No           No      No  "
      ]
     },
     "execution_count": 52,
     "metadata": {},
     "output_type": "execute_result"
    }
   ],
   "source": [
    "df.Gender.replace(['M','F'],['Male','Female'],inplace=True)\n",
    "df.head(3)"
   ]
  },
  {
   "cell_type": "markdown",
   "metadata": {},
   "source": [
    "<a id='eda'></a>\n",
    "## Exploratory Data Analysis\n",
    "\n",
    "\n",
    "\n",
    "### Research Question 1 : Does being an alcoholic influence ones likelihood of showing up for hospital appointments?"
   ]
  },
  {
   "cell_type": "markdown",
   "metadata": {},
   "source": [
    ">To answer this question, we had to initially look at the nature of the variables involved in answering the questions which is Alcoholism and No_show. \n"
   ]
  },
  {
   "cell_type": "markdown",
   "metadata": {},
   "source": [
    "From the analysis in the two cells below, it can be seen that **107,167** individual were not alcoholic compared to **3,360** who were alcoholic. This clearly shows that there were relaticely small percentage of alcoholics in the population as it can be seen from our plots and percentages(**3.04%**) compared to **96.96%** non alcoholic."
   ]
  },
  {
   "cell_type": "code",
   "execution_count": 53,
   "metadata": {},
   "outputs": [
    {
     "data": {
      "text/plain": [
       "(No     107167\n",
       " Yes      3360\n",
       " Name: Alcoholism, dtype: int64,\n",
       " No     96.96\n",
       " Yes     3.04\n",
       " Name: Alcoholism, dtype: float64)"
      ]
     },
     "execution_count": 53,
     "metadata": {},
     "output_type": "execute_result"
    }
   ],
   "source": [
    "# grouping alcoholics to those who are not\n",
    "al_num=df.Alcoholism.value_counts()\n",
    "\n",
    "# Getting the percentages of those alcoholic or not and rounding to 2 decimal places\n",
    "al_perc=df.Alcoholism.value_counts(normalize=True)*100\n",
    "ro_perc=al_perc.round(2)\n",
    "\n",
    "(al_num,ro_perc)"
   ]
  },
  {
   "cell_type": "code",
   "execution_count": 54,
   "metadata": {},
   "outputs": [
    {
     "data": {
      "text/plain": [
       "Text(0.5, 0, 'Alcoholic state')"
      ]
     },
     "execution_count": 54,
     "metadata": {},
     "output_type": "execute_result"
    },
    {
     "data": {
      "image/png": "[encoded data removed]",
      "text/plain": [
       "<Figure size 432x288 with 1 Axes>"
      ]
     },
     "metadata": {
      "needs_background": "light"
     },
     "output_type": "display_data"
    }
   ],
   "source": [
    "# definig parameters needed for plotting percentages of the groups\n",
    "location=np.arange(len(ro_perc))\n",
    "heights=ro_perc\n",
    "labels=ro_perc.index.str.replace('_', ' ').str.title()\n",
    "# Plotting a bar chart and labeling \n",
    "plt.bar(location,heights,tick_label=labels, color=['green','red'])\n",
    "plt.title('Percentage of individuals who are Alcoholics to Those who are not',fontsize=12)\n",
    "plt.ylabel('Percent',fontsize=12)\n",
    "plt.xlabel('Alcoholic state',fontsize=12)"
   ]
  },
  {
   "cell_type": "markdown",
   "metadata": {},
   "source": [
    "Similar analyis from our Alcoholism variable was done to the NO-show variable. It was observed that a greater proportion of individuals showed up to their appointments **88,208(79.81%)** compared to **2,2318(20.19%)** who did not show up. It should be noted that in this data, \"No\" indicated individuals who said No to No_show, indicating that they showed up in contrast to \"Yes\" which is the opposite. This was clearly demonsttated in a pie chart in the following cell after the first from this."
   ]
  },
  {
   "cell_type": "code",
   "execution_count": 55,
   "metadata": {},
   "outputs": [
    {
     "data": {
      "text/plain": [
       "(No     88208\n",
       " Yes    22319\n",
       " Name: No_show, dtype: int64,\n",
       " No     79.81\n",
       " Yes    20.19\n",
       " Name: No_show, dtype: float64)"
      ]
     },
     "execution_count": 55,
     "metadata": {},
     "output_type": "execute_result"
    }
   ],
   "source": [
    "# grouping those who showed up by those who did not\n",
    "sh_num=df.No_show.value_counts()\n",
    "\n",
    "# Getting the percentages of those who showed up or not and rounding to 2 decimal places\n",
    "sh_perc=df.No_show.value_counts(normalize=True)*100\n",
    "ro_sperc=sh_perc.round(2)\n",
    "\n",
    "(sh_num,ro_sperc)"
   ]
  },
  {
   "cell_type": "code",
   "execution_count": 56,
   "metadata": {},
   "outputs": [
    {
     "data": {
      "text/plain": [
       "Text(0.5, 1.0, 'Percentage of individuals who showed up to appointments to Those who did not [No=Showed up]')"
      ]
     },
     "execution_count": 56,
     "metadata": {},
     "output_type": "execute_result"
    },
    {
     "data": {
      "image/png": "[encoded data removed]",
      "text/plain": [
       "<Figure size 432x288 with 1 Axes>"
      ]
     },
     "metadata": {},
     "output_type": "display_data"
    }
   ],
   "source": [
    "# definig parameters needed for plotting percentages of the groups\n",
    "heights=ro_sperc\n",
    "labels=ro_sperc.index.str.replace('_', ' ').str.title()\n",
    "# Plotting a pie chart and adding title\n",
    "plt.pie(heights,labels=labels, autopct='%.2f')\n",
    "plt.title('Percentage of individuals who showed up to appointments to Those who did not [No=Showed up]',fontsize=12)"
   ]
  },
  {
   "cell_type": "markdown",
   "metadata": {},
   "source": [
    "> Following on to undertsand the relationship between both variables, a cross table was used. From the table, it was observed that in the category of those who were alcoholic, **2683(2.4%)** indicated to have shown up to their appointment in contrast to **677(0.6%)** who never showed up. A similar trend is seen in Those who were never alcoholic indicating that alcoholism has nothing to do with one's likelihood of showing up for appointments as can be visually seen in the comparison clustered bar chart below."
   ]
  },
  {
   "cell_type": "code",
   "execution_count": 57,
   "metadata": {},
   "outputs": [
    {
     "data": {
      "text/html": [
       "<div>\n",
       "<style scoped>\n",
       "    .dataframe tbody tr th:only-of-type {\n",
       "        vertical-align: middle;\n",
       "    }\n",
       "\n",
       "    .dataframe tbody tr th {\n",
       "        vertical-align: top;\n",
       "    }\n",
       "\n",
       "    .dataframe thead th {\n",
       "        text-align: right;\n",
       "    }\n",
       "</style>\n",
       "<table border=\"1\" class=\"dataframe\">\n",
       "  <thead>\n",
       "    <tr style=\"text-align: right;\">\n",
       "      <th>No_show</th>\n",
       "      <th>No</th>\n",
       "      <th>Yes</th>\n",
       "    </tr>\n",
       "    <tr>\n",
       "      <th>Alcoholism</th>\n",
       "      <th></th>\n",
       "      <th></th>\n",
       "    </tr>\n",
       "  </thead>\n",
       "  <tbody>\n",
       "    <tr>\n",
       "      <th>No</th>\n",
       "      <td>85525</td>\n",
       "      <td>21642</td>\n",
       "    </tr>\n",
       "    <tr>\n",
       "      <th>Yes</th>\n",
       "      <td>2683</td>\n",
       "      <td>677</td>\n",
       "    </tr>\n",
       "  </tbody>\n",
       "</table>\n",
       "</div>"
      ],
      "text/plain": [
       "No_show        No    Yes\n",
       "Alcoholism              \n",
       "No          85525  21642\n",
       "Yes          2683    677"
      ]
     },
     "execution_count": 57,
     "metadata": {},
     "output_type": "execute_result"
    }
   ],
   "source": [
    "# c_analysis computes the cross table for both variables\n",
    "# cp_analysis gets various proportions  and round them down to 3 decimal places\n",
    "c_analysis=pd.crosstab(df['Alcoholism'],df['No_show'])\n",
    "cp_analysis=pd.crosstab(df['Alcoholism'],df['No_show'],normalize=True).round(3)*100\n",
    "\n",
    "# crosstable values\n",
    "c_analysis"
   ]
  },
  {
   "cell_type": "code",
   "execution_count": 58,
   "metadata": {},
   "outputs": [
    {
     "data": {
      "text/html": [
       "<div>\n",
       "<style scoped>\n",
       "    .dataframe tbody tr th:only-of-type {\n",
       "        vertical-align: middle;\n",
       "    }\n",
       "\n",
       "    .dataframe tbody tr th {\n",
       "        vertical-align: top;\n",
       "    }\n",
       "\n",
       "    .dataframe thead th {\n",
       "        text-align: right;\n",
       "    }\n",
       "</style>\n",
       "<table border=\"1\" class=\"dataframe\">\n",
       "  <thead>\n",
       "    <tr style=\"text-align: right;\">\n",
       "      <th>No_show</th>\n",
       "      <th>No</th>\n",
       "      <th>Yes</th>\n",
       "    </tr>\n",
       "    <tr>\n",
       "      <th>Alcoholism</th>\n",
       "      <th></th>\n",
       "      <th></th>\n",
       "    </tr>\n",
       "  </thead>\n",
       "  <tbody>\n",
       "    <tr>\n",
       "      <th>No</th>\n",
       "      <td>77.4</td>\n",
       "      <td>19.6</td>\n",
       "    </tr>\n",
       "    <tr>\n",
       "      <th>Yes</th>\n",
       "      <td>2.4</td>\n",
       "      <td>0.6</td>\n",
       "    </tr>\n",
       "  </tbody>\n",
       "</table>\n",
       "</div>"
      ],
      "text/plain": [
       "No_show       No   Yes\n",
       "Alcoholism            \n",
       "No          77.4  19.6\n",
       "Yes          2.4   0.6"
      ]
     },
     "execution_count": 58,
     "metadata": {},
     "output_type": "execute_result"
    }
   ],
   "source": [
    "# crosstable proportions\n",
    "cp_analysis"
   ]
  },
  {
   "cell_type": "code",
   "execution_count": 59,
   "metadata": {},
   "outputs": [
    {
     "data": {
      "image/png": "[encoded data removed]",
      "text/plain": [
       "<Figure size 576x360 with 1 Axes>"
      ]
     },
     "metadata": {
      "needs_background": "light"
     },
     "output_type": "display_data"
    }
   ],
   "source": [
    "# The following function takes in a cross table in proportion and plots a clustered bar chart to compare both variables\n",
    "def bi_chart(chart_frame):\n",
    "    # Bar plot from cross table \n",
    "    chart_frame.plot(kind='bar',figsize=(8,5))\n",
    "    plt.xticks(rotation=0)\n",
    "    plt.ylabel('Percent',fontsize='12')\n",
    "    \n",
    "bi_chart(cp_analysis)"
   ]
  },
  {
   "cell_type": "markdown",
   "metadata": {},
   "source": [
    "A chi square test can be used to determine association between two categorical variables. At the 95% confidence level, it is observed that no association exist as the p value is **greater than 0.05(0.965)**."
   ]
  },
  {
   "cell_type": "code",
   "execution_count": 60,
   "metadata": {},
   "outputs": [
    {
     "data": {
      "text/plain": [
       "(0.00188, 0.96542)"
      ]
     },
     "execution_count": 60,
     "metadata": {},
     "output_type": "execute_result"
    }
   ],
   "source": [
    "# Here, c indicates the Chi- square value, P indicates the p value and dof is the degree of freedom\n",
    "# Using the scipy.stats module, the contingency table of both categories seen above is passed to  this method and test computed.\n",
    "c, p, dof, expected = cqt(c_analysis)\n",
    "\n",
    "# Test statistics and p value rounded to 5 decimals\n",
    "c.round(5), p.round(5)"
   ]
  },
  {
   "cell_type": "markdown",
   "metadata": {},
   "source": [
    "### Research Question 2: Do all those who receive SMSs show up for appointments? and is there any association between receiving an SMS and showing up for appointments?"
   ]
  },
  {
   "cell_type": "markdown",
   "metadata": {},
   "source": [
    ">Following from the first question, this question follows the sam pathern and was anaylsed in a similar manner. Since the nature of the No_show varaible is already known from our previous question, only SMS_received was explored here."
   ]
  },
  {
   "cell_type": "markdown",
   "metadata": {},
   "source": [
    "From our data, it was seen that **75,045(67.90%)** of individuals never received SMSs while **35.482(32.10%)** received SMSs, indicating that less individuals received SMSs compared to those who did not. This is clearly visible both as frequencies and proportions as well as through a plot as seen below."
   ]
  },
  {
   "cell_type": "code",
   "execution_count": 61,
   "metadata": {},
   "outputs": [
    {
     "data": {
      "text/plain": [
       "(No     75045\n",
       " Yes    35482\n",
       " Name: SMS_received, dtype: int64,\n",
       " No     67.9\n",
       " Yes    32.1\n",
       " Name: SMS_received, dtype: float64)"
      ]
     },
     "execution_count": 61,
     "metadata": {},
     "output_type": "execute_result"
    }
   ],
   "source": [
    "# grouping Those who received SMSs to those who did not\n",
    "sms_num=df.SMS_received.value_counts()\n",
    "\n",
    "# Getting the percentages of those who received SMSs or not and rounding to 2 decimal places\n",
    "sms_perc=df.SMS_received.value_counts(normalize=True)*100\n",
    "sms_perc=sms_perc.round(2)\n",
    "\n",
    "(sms_num,sms_perc)"
   ]
  },
  {
   "cell_type": "code",
   "execution_count": 62,
   "metadata": {},
   "outputs": [
    {
     "data": {
      "text/plain": [
       "Text(0.5, 0, 'SMS reception state')"
      ]
     },
     "execution_count": 62,
     "metadata": {},
     "output_type": "execute_result"
    },
    {
     "data": {
      "image/png": "[encoded data removed]",
      "text/plain": [
       "<Figure size 432x288 with 1 Axes>"
      ]
     },
     "metadata": {
      "needs_background": "light"
     },
     "output_type": "display_data"
    }
   ],
   "source": [
    "# definig parameters needed for plotting percentages of the groups\n",
    "location=np.arange(len(sms_perc))\n",
    "heights=sms_perc\n",
    "labels=sms_perc.index.str.replace('_', ' ').str.title()\n",
    "# Plotting a bar chart and labeling \n",
    "plt.bar(location,heights,tick_label=labels, color=['red','green'])\n",
    "plt.title('Percentage of individuals Received who received SMSs to those who did not',fontsize=12)\n",
    "plt.ylabel('Percent',fontsize=12)\n",
    "plt.xlabel('SMS reception state',fontsize=12)"
   ]
  },
  {
   "cell_type": "markdown",
   "metadata": {},
   "source": [
    "From our cross table, it was observed that among those who recievd SMSs, not all of them showed up for appointments however a majority showed for the appointments though this can be counteracted as even those who never received had greater proportions on showing up for appointments. This is all well documented in frequencies, proportions and charts below."
   ]
  },
  {
   "cell_type": "code",
   "execution_count": 63,
   "metadata": {},
   "outputs": [
    {
     "data": {
      "text/html": [
       "<div>\n",
       "<style scoped>\n",
       "    .dataframe tbody tr th:only-of-type {\n",
       "        vertical-align: middle;\n",
       "    }\n",
       "\n",
       "    .dataframe tbody tr th {\n",
       "        vertical-align: top;\n",
       "    }\n",
       "\n",
       "    .dataframe thead th {\n",
       "        text-align: right;\n",
       "    }\n",
       "</style>\n",
       "<table border=\"1\" class=\"dataframe\">\n",
       "  <thead>\n",
       "    <tr style=\"text-align: right;\">\n",
       "      <th>No_show</th>\n",
       "      <th>No</th>\n",
       "      <th>Yes</th>\n",
       "    </tr>\n",
       "    <tr>\n",
       "      <th>SMS_received</th>\n",
       "      <th></th>\n",
       "      <th></th>\n",
       "    </tr>\n",
       "  </thead>\n",
       "  <tbody>\n",
       "    <tr>\n",
       "      <th>No</th>\n",
       "      <td>62510</td>\n",
       "      <td>12535</td>\n",
       "    </tr>\n",
       "    <tr>\n",
       "      <th>Yes</th>\n",
       "      <td>25698</td>\n",
       "      <td>9784</td>\n",
       "    </tr>\n",
       "  </tbody>\n",
       "</table>\n",
       "</div>"
      ],
      "text/plain": [
       "No_show          No    Yes\n",
       "SMS_received              \n",
       "No            62510  12535\n",
       "Yes           25698   9784"
      ]
     },
     "execution_count": 63,
     "metadata": {},
     "output_type": "execute_result"
    }
   ],
   "source": [
    "# cs_analysis computes the cross table for both variables\n",
    "# cp_analysis gets various proportions  and round them down to 3 decimal places\n",
    "cs_analysis=pd.crosstab(df['SMS_received'],df['No_show'])\n",
    "csp_analysis=pd.crosstab(df['SMS_received'],df['No_show'],normalize=True).round(3)*100\n",
    "\n",
    "# crosstable values\n",
    "cs_analysis"
   ]
  },
  {
   "cell_type": "code",
   "execution_count": 64,
   "metadata": {},
   "outputs": [
    {
     "data": {
      "text/html": [
       "<div>\n",
       "<style scoped>\n",
       "    .dataframe tbody tr th:only-of-type {\n",
       "        vertical-align: middle;\n",
       "    }\n",
       "\n",
       "    .dataframe tbody tr th {\n",
       "        vertical-align: top;\n",
       "    }\n",
       "\n",
       "    .dataframe thead th {\n",
       "        text-align: right;\n",
       "    }\n",
       "</style>\n",
       "<table border=\"1\" class=\"dataframe\">\n",
       "  <thead>\n",
       "    <tr style=\"text-align: right;\">\n",
       "      <th>No_show</th>\n",
       "      <th>No</th>\n",
       "      <th>Yes</th>\n",
       "    </tr>\n",
       "    <tr>\n",
       "      <th>SMS_received</th>\n",
       "      <th></th>\n",
       "      <th></th>\n",
       "    </tr>\n",
       "  </thead>\n",
       "  <tbody>\n",
       "    <tr>\n",
       "      <th>No</th>\n",
       "      <td>56.6</td>\n",
       "      <td>11.3</td>\n",
       "    </tr>\n",
       "    <tr>\n",
       "      <th>Yes</th>\n",
       "      <td>23.3</td>\n",
       "      <td>8.9</td>\n",
       "    </tr>\n",
       "  </tbody>\n",
       "</table>\n",
       "</div>"
      ],
      "text/plain": [
       "No_show         No   Yes\n",
       "SMS_received            \n",
       "No            56.6  11.3\n",
       "Yes           23.3   8.9"
      ]
     },
     "execution_count": 64,
     "metadata": {},
     "output_type": "execute_result"
    }
   ],
   "source": [
    "# crosstable proportions\n",
    "csp_analysis"
   ]
  },
  {
   "cell_type": "code",
   "execution_count": 65,
   "metadata": {},
   "outputs": [
    {
     "data": {
      "image/png": "[encoded data removed]",
      "text/plain": [
       "<Figure size 576x360 with 1 Axes>"
      ]
     },
     "metadata": {
      "needs_background": "light"
     },
     "output_type": "display_data"
    }
   ],
   "source": [
    "# Here, we called on the bi_chart function earlier written that takes in cross table proportions\n",
    "# and plots a clustered chart as seen below\n",
    "bi_chart(csp_analysis)"
   ]
  },
  {
   "cell_type": "markdown",
   "metadata": {},
   "source": [
    "Accessing the statistoical association at the 95% confidence level, it is observed that the p value is less than 0.05(0.0), implying a statistical association between both variables as seen below."
   ]
  },
  {
   "cell_type": "code",
   "execution_count": 66,
   "metadata": {},
   "outputs": [
    {
     "data": {
      "text/plain": [
       "(1766.06766, 0.0)"
      ]
     },
     "execution_count": 66,
     "metadata": {},
     "output_type": "execute_result"
    }
   ],
   "source": [
    "# Here, c indicates the Chi- square value, P indicates the p value and dof is the degree of freedom\n",
    "# Using the scipy.stats module, the contingency table of both categories seen above is passed to  this method and test computed.\n",
    "c, p, dof, expected = cqt(cs_analysis)\n",
    "\n",
    "# Test statistics and p value rounded to 5 decimals\n",
    "c.round(5), p.round(5)"
   ]
  },
  {
   "cell_type": "code",
   "execution_count": null,
   "metadata": {},
   "outputs": [],
   "source": []
  },
  {
   "cell_type": "markdown",
   "metadata": {},
   "source": [
    "<a id='conclusions'></a>\n",
    "## Conclusions\n",
    "\n",
    "\n",
    "<div style=\"text-align: justify\"> Regarding research question 1, it can be speculatively observed that more persons showed up for appointments both in categories of those who were alcoholic and were not. This visibly meant that alcoholism might not affect ones likelihood of showing up for appointments.\n",
    "Though not required in this analysis, further statistical tests(Chi-square) were carried out to ascertain these results and it was confirmed that no statistical associations exist between alcoholism and Ones likelihood of showing up for appointments <b>(p>0.05)</b> hence we can safetly conclude that alcoholism does not influence ones likelihood of showing up for appointments.</div>\n",
    "\n",
    "<div style=\"text-align: justify\"> Regarding research question 2, it was seen that among those who received SMSs, not all of them showed up for appointments as <b>23.3%</b> showed up while <b>8.9%</b> did not show up.</div>\n",
    "<div style=\"text-align: justify\"> Though not required, following on to asses the statistical association between the reception of SMSs and showing up for appointments, a statistically significant association was obserced at the 95% confidence level as the p value was <b>less than 0.05(0.0)</b>. This meant the data provided enough evidence for us to confirm that ones reception of an SMS can influence their showing up for appointments or not.</div>\n",
    "\n",
    "## Limitations to the study\n",
    "\n",
    "1. The dataset had certain challenges associated with coding as there was no adeqaute information from the data description of variable values. This could lead to misinterpretation and misrepresentation of data. This is visbly seen in the Handcap variable in which several categories originated and as a result the variable had to be ultimately droped. This could be avoided by adding an appropriate coding section for the data.\n",
    "2. Per the original demand of the analysis, using only descriptives is not sufficient to determine statistical associations, hence following this original structure, our analysis would have provided only tentative results. This was however handled as we used the Chi-squared test in our analysis.\n"
   ]
  },
  {
   "cell_type": "markdown",
   "metadata": {},
   "source": [
    "<a id='references'></a>\n",
    "## References for analysis\n",
    "# The following references played an important role in assisting this analysis\n",
    "\n",
    "\n",
    "1. Shanelynn.ie. 2022. Pandas iloc and loc – quickly select data in DataFrames. [online] Available at: <https://www.shanelynn.ie/pandas-iloc-loc-select-rows-and-columns-dataframe/#:~:text=iloc%20returns%20a%20Pandas%20Series,if%20you%20require%20DataFrame%20output.> [Accessed 4 August 2022].\n",
    "\n",
    "2. DataFrame?, H., Petrou, T. and Tochilov, S., 2022. How to get value counts for multiple columns at once in Pandas DataFrame?. [online] Stack Overflow. Available at: <https://stackoverflow.com/questions/32589829/how-to-get-value-counts-for-multiple-columns-at-once-in-pandas-dataframe> [Accessed 4 August 2022].\n",
    "\n",
    "3. (numpy)?, W., 2022. What does np.r_ do (numpy)?. [online] Stack Overflow. Available at: <https://stackoverflow.com/questions/30597869/what-does-np-r-do-numpy> [Accessed 4 August 2022].\n",
    "\n",
    "4. w3resource. 2022. Pandas: Data Manipulation - crosstab function - w3resource. [online] Available at: <https://www.w3resource.com/pandas/crosstab.php> [Accessed 6 August 2022].\n",
    "\n",
    "5. datagy. 2022. Counting Values in Pandas with value_counts • datagy. [online] Available at: <https://datagy.io/pandas-value-counts/> [Accessed 6 August 2022].\n",
    "\n",
    "6. GeeksforGeeks. 2022. Plot a pie chart in Python using Matplotlib - GeeksforGeeks. [online] Available at: <https://www.geeksforgeeks.org/plot-a-pie-chart-in-python-using-matplotlib/> [Accessed 6 August 2022].\n",
    "\n",
    "7. Predictive Hacks. 2022. How to run Chi-Square Test in Python – Predictive Hacks. [online] Available at: <https://predictivehacks.com/how-to-run-chi-square-test-in-python/> [Accessed 6 August 2022].\n",
    "    "
   ]
  },
  {
   "cell_type": "code",
   "execution_count": null,
   "metadata": {},
   "outputs": [],
   "source": []
  }
 ],
 "metadata": {
  "kernelspec": {
   "display_name": "Python 3 (ipykernel)",
   "language": "python",
   "name": "python3"
  },
  "language_info": {
   "codemirror_mode": {
    "name": "ipython",
    "version": 3
   },
   "file_extension": ".py",
   "mimetype": "text/x-python",
   "name": "python",
   "nbconvert_exporter": "python",
   "pygments_lexer": "ipython3",
   "version": "3.9.12"
  }
 },
 "nbformat": 4,
 "nbformat_minor": 2
}
